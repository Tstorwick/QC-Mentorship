{
  "nbformat": 4,
  "nbformat_minor": 0,
  "metadata": {
    "colab": {
      "name": "QuantumMentorship.ipynb",
      "provenance": [],
      "collapsed_sections": [],
      "authorship_tag": "ABX9TyNA7DospqbNf/pCB2nZU/4g",
      "include_colab_link": true
    },
    "kernelspec": {
      "name": "python3",
      "display_name": "Python 3"
    },
    "accelerator": "GPU"
  },
  "cells": [
    {
      "cell_type": "markdown",
      "metadata": {
        "id": "view-in-github",
        "colab_type": "text"
      },
      "source": [
        "<a href=\"https://colab.research.google.com/github/Tstorwick/QC-Mentorship/blob/master/QuantumMentorship.ipynb\" target=\"_parent\"><img src=\"https://colab.research.google.com/assets/colab-badge.svg\" alt=\"Open In Colab\"/></a>"
      ]
    },
    {
      "cell_type": "markdown",
      "metadata": {
        "id": "FmbUrHmoTq6L",
        "colab_type": "text"
      },
      "source": [
        "# Quantum Mentorship Task 2\n",
        "Thomas Storwick,\n",
        "<br>\n",
        "BASc Nanotechnology Engineering.\n",
        "<br>\n",
        "MASc Candidate, Nanotechnology Engineering"
      ]
    },
    {
      "cell_type": "markdown",
      "metadata": {
        "id": "GBKi1biiUGAp",
        "colab_type": "text"
      },
      "source": [
        "Installs and imports.<br>\n",
        "Sometimes you need to re-start the runtime after you install cirq."
      ]
    },
    {
      "cell_type": "code",
      "metadata": {
        "id": "lKAI8P-jk88H",
        "colab_type": "code",
        "outputId": "c9926795-2aca-4824-e323-fe6bc65642a8",
        "colab": {
          "base_uri": "https://localhost:8080/",
          "height": 595
        }
      },
      "source": [
        "!pip install cirq"
      ],
      "execution_count": 2,
      "outputs": [
        {
          "output_type": "stream",
          "text": [
            "Requirement already satisfied: cirq in /usr/local/lib/python3.6/dist-packages (0.7.0)\n",
            "Requirement already satisfied: pandas in /usr/local/lib/python3.6/dist-packages (from cirq) (0.25.3)\n",
            "Requirement already satisfied: networkx==2.3 in /usr/local/lib/python3.6/dist-packages (from cirq) (2.3)\n",
            "Requirement already satisfied: protobuf==3.8.0 in /usr/local/lib/python3.6/dist-packages (from cirq) (3.8.0)\n",
            "Requirement already satisfied: numpy~=1.16 in /usr/local/lib/python3.6/dist-packages (from cirq) (1.17.5)\n",
            "Requirement already satisfied: sortedcontainers~=2.0 in /usr/local/lib/python3.6/dist-packages (from cirq) (2.1.0)\n",
            "Requirement already satisfied: typing-extensions in /usr/local/lib/python3.6/dist-packages (from cirq) (3.6.6)\n",
            "Requirement already satisfied: scipy in /usr/local/lib/python3.6/dist-packages (from cirq) (1.4.1)\n",
            "Requirement already satisfied: google-api-python-client~=1.6 in /usr/local/lib/python3.6/dist-packages (from cirq) (1.7.11)\n",
            "Requirement already satisfied: dataclasses; python_version < \"3.7\" in /usr/local/lib/python3.6/dist-packages (from cirq) (0.7)\n",
            "Requirement already satisfied: matplotlib~=3.0 in /usr/local/lib/python3.6/dist-packages (from cirq) (3.1.3)\n",
            "Requirement already satisfied: sympy==1.4 in /usr/local/lib/python3.6/dist-packages (from cirq) (1.4)\n",
            "Requirement already satisfied: requests~=2.18 in /usr/local/lib/python3.6/dist-packages (from cirq) (2.21.0)\n",
            "Requirement already satisfied: pytz>=2017.2 in /usr/local/lib/python3.6/dist-packages (from pandas->cirq) (2018.9)\n",
            "Requirement already satisfied: python-dateutil>=2.6.1 in /usr/local/lib/python3.6/dist-packages (from pandas->cirq) (2.6.1)\n",
            "Requirement already satisfied: decorator>=4.3.0 in /usr/local/lib/python3.6/dist-packages (from networkx==2.3->cirq) (4.4.1)\n",
            "Requirement already satisfied: setuptools in /usr/local/lib/python3.6/dist-packages (from protobuf==3.8.0->cirq) (45.1.0)\n",
            "Requirement already satisfied: six>=1.9 in /usr/local/lib/python3.6/dist-packages (from protobuf==3.8.0->cirq) (1.12.0)\n",
            "Requirement already satisfied: httplib2<1dev,>=0.9.2 in /usr/local/lib/python3.6/dist-packages (from google-api-python-client~=1.6->cirq) (0.11.3)\n",
            "Requirement already satisfied: google-auth-httplib2>=0.0.3 in /usr/local/lib/python3.6/dist-packages (from google-api-python-client~=1.6->cirq) (0.0.3)\n",
            "Requirement already satisfied: google-auth>=1.4.1 in /usr/local/lib/python3.6/dist-packages (from google-api-python-client~=1.6->cirq) (1.7.2)\n",
            "Requirement already satisfied: uritemplate<4dev,>=3.0.0 in /usr/local/lib/python3.6/dist-packages (from google-api-python-client~=1.6->cirq) (3.0.1)\n",
            "Requirement already satisfied: pyparsing!=2.0.4,!=2.1.2,!=2.1.6,>=2.0.1 in /usr/local/lib/python3.6/dist-packages (from matplotlib~=3.0->cirq) (2.4.6)\n",
            "Requirement already satisfied: cycler>=0.10 in /usr/local/lib/python3.6/dist-packages (from matplotlib~=3.0->cirq) (0.10.0)\n",
            "Requirement already satisfied: kiwisolver>=1.0.1 in /usr/local/lib/python3.6/dist-packages (from matplotlib~=3.0->cirq) (1.1.0)\n",
            "Requirement already satisfied: mpmath>=0.19 in /usr/local/lib/python3.6/dist-packages (from sympy==1.4->cirq) (1.1.0)\n",
            "Requirement already satisfied: chardet<3.1.0,>=3.0.2 in /usr/local/lib/python3.6/dist-packages (from requests~=2.18->cirq) (3.0.4)\n",
            "Requirement already satisfied: certifi>=2017.4.17 in /usr/local/lib/python3.6/dist-packages (from requests~=2.18->cirq) (2019.11.28)\n",
            "Requirement already satisfied: urllib3<1.25,>=1.21.1 in /usr/local/lib/python3.6/dist-packages (from requests~=2.18->cirq) (1.24.3)\n",
            "Requirement already satisfied: idna<2.9,>=2.5 in /usr/local/lib/python3.6/dist-packages (from requests~=2.18->cirq) (2.8)\n",
            "Requirement already satisfied: rsa<4.1,>=3.1.4 in /usr/local/lib/python3.6/dist-packages (from google-auth>=1.4.1->google-api-python-client~=1.6->cirq) (4.0)\n",
            "Requirement already satisfied: cachetools<3.2,>=2.0.0 in /usr/local/lib/python3.6/dist-packages (from google-auth>=1.4.1->google-api-python-client~=1.6->cirq) (3.1.1)\n",
            "Requirement already satisfied: pyasn1-modules>=0.2.1 in /usr/local/lib/python3.6/dist-packages (from google-auth>=1.4.1->google-api-python-client~=1.6->cirq) (0.2.8)\n",
            "Requirement already satisfied: pyasn1>=0.1.3 in /usr/local/lib/python3.6/dist-packages (from rsa<4.1,>=3.1.4->google-auth>=1.4.1->google-api-python-client~=1.6->cirq) (0.4.8)\n"
          ],
          "name": "stdout"
        }
      ]
    },
    {
      "cell_type": "code",
      "metadata": {
        "id": "qYfZ4ECLpMDr",
        "colab_type": "code",
        "colab": {}
      },
      "source": [
        "import cirq\n",
        "import numpy as np\n",
        "import matplotlib\n",
        "from cirq.contrib.svg import circuit_to_svg\n",
        "from IPython.display import SVG, display\n",
        "import os"
      ],
      "execution_count": 0,
      "outputs": []
    },
    {
      "cell_type": "markdown",
      "metadata": {
        "id": "pUZLD4AlUswG",
        "colab_type": "text"
      },
      "source": [
        "### Functions\n",
        "Here we define the functions we are going to use throughout the problem. `updateCircuit` takes our parameters and outputs a new circuit with those parameters. `loss` is our loss function, which calculates how far we are from the desired state. `cprint` is a quick function that prints us a nicer version of the circuit diagram.  "
      ]
    },
    {
      "cell_type": "code",
      "metadata": {
        "id": "VJmKTEQOFehW",
        "colab_type": "code",
        "colab": {}
      },
      "source": [
        "def updateCircuit(thetaX, thetaY):\n",
        "  circuitGates=[\n",
        "          cirq.rx(thetaX * np.pi)(qubits[0]),\n",
        "          cirq.ry(thetaY * np.pi)(qubits[0]),\n",
        "          cirq.CNOT(control=qubits[0], target = qubits[1]),\n",
        "          #add some noise\n",
        "          cirq.depolarize(0.005)(qubits[0]),\n",
        "          cirq.depolarize(0.005)(qubits[1]),\n",
        "          cirq.measure(qubits[0],qubits[1])\n",
        "  ]\n",
        "  circuit=cirq.Circuit(*circuitGates)\n",
        "  #circuit=circuit.with_noise(cirq.depolarize(0.01))\n",
        "  return circuit\n",
        "\n",
        "def cprint(circuit):\n",
        "  \"\"\"Convert the cirq.Circuit to a temp svg and display + garbage collect.\"\"\"\n",
        "  with open(\"temp.svg\", 'w+') as f:\n",
        "    f.write(circuit_to_svg(circuit))\n",
        "  display(SVG('temp.svg'))\n",
        "  os.remove('temp.svg')\n",
        "\n",
        "def loss(probs):\n",
        "  targetProbs=[0.5,0,0,0.5]\n",
        "  loss=0\n",
        "  loss+=np.abs(targetProbs[0]-probs[0])\n",
        "  loss+=np.abs(targetProbs[3]-probs[3])\n",
        "  return loss"
      ],
      "execution_count": 0,
      "outputs": []
    },
    {
      "cell_type": "markdown",
      "metadata": {
        "id": "v3ceY_EHVdnZ",
        "colab_type": "text"
      },
      "source": [
        "Finally, we make the qubits we will be running all our circuits on."
      ]
    },
    {
      "cell_type": "code",
      "metadata": {
        "id": "_AGjZSaUUrJZ",
        "colab_type": "code",
        "colab": {}
      },
      "source": [
        "qubits = cirq.LineQubit.range(2)"
      ],
      "execution_count": 0,
      "outputs": []
    },
    {
      "cell_type": "markdown",
      "metadata": {
        "id": "4tE99tTN51hL",
        "colab_type": "text"
      },
      "source": [
        "## Simple Gradient Decent\n",
        "Here, we implement a simple gradient decent that moves both Rx and Ry and the same time."
      ]
    },
    {
      "cell_type": "markdown",
      "metadata": {
        "id": "IDp_UyNcjTYM",
        "colab_type": "text"
      },
      "source": [
        "### Initialize\n",
        "Here we set our initial guess values, `thetas`, our learning rate `delta`, the number of times we run each itteration of the circuit `reps`, and the finall error tolerance in our answer `errorTol`."
      ]
    },
    {
      "cell_type": "code",
      "metadata": {
        "id": "cC0cWPUQrwaT",
        "colab_type": "code",
        "colab": {}
      },
      "source": [
        "thetas=[0.,0.] #[X,Y]\n",
        "delta=0.05\n",
        "reps=1000\n",
        "errorTol=0.1"
      ],
      "execution_count": 0,
      "outputs": []
    },
    {
      "cell_type": "markdown",
      "metadata": {
        "id": "ufm1KMwpjWJK",
        "colab_type": "text"
      },
      "source": [
        "Initial state: \n",
        "\n",
        "Setup the circuit and run it once to get our initial \"guess\" value."
      ]
    },
    {
      "cell_type": "code",
      "metadata": {
        "id": "fvc4VEnTCcbX",
        "colab_type": "code",
        "outputId": "0492b40d-61da-400b-ba6a-a07dc60c4eec",
        "colab": {
          "base_uri": "https://localhost:8080/",
          "height": 155
        }
      },
      "source": [
        "circuit=updateCircuit(thetas[0],thetas[1])\n",
        "cprint(circuit)\n",
        "probs=[]\n",
        "#initial state\n",
        "result=cirq.sample(circuit, repetitions=reps).histogram(key='0,1')\n",
        "for i in range(4):\n",
        "  probs.append(result[i]/reps)\n",
        "results=[[thetas,probs,loss(probs)]]\n",
        "run=0\n",
        "print(results[0])"
      ],
      "execution_count": 7,
      "outputs": [
        {
          "output_type": "stream",
          "text": [
            "findfont: Font family ['Arial'] not found. Falling back to DejaVu Sans.\n"
          ],
          "name": "stderr"
        },
        {
          "output_type": "display_data",
          "data": {
            "text/plain": [
              "<IPython.core.display.SVG object>"
            ],
            "image/svg+xml": "<svg height=\"100.0\" width=\"483.30222656250004\" xmlns=\"http://www.w3.org/2000/svg\"><line stroke=\"#1967d2\" stroke-width=\"1\" x1=\"30.0\" x2=\"453.30222656250004\" y1=\"25.0\" y2=\"25.0\"/><line stroke=\"#1967d2\" stroke-width=\"1\" x1=\"30.0\" x2=\"453.30222656250004\" y1=\"75.0\" y2=\"75.0\"/><line stroke=\"black\" stroke-width=\"3\" x1=\"264.09562500000004\" x2=\"264.09562500000004\" y1=\"25.0\" y2=\"75.0\"/><line stroke=\"black\" stroke-width=\"3\" x1=\"413.30222656250004\" x2=\"413.30222656250004\" y1=\"25.0\" y2=\"75.0\"/><rect fill=\"white\" height=\"40\" stroke=\"black\" stroke-width=\"0\" width=\"40\" x=\"10.0\" y=\"5.0\"/><text dominant-baseline=\"middle\" font-size=\"14px\" text-anchor=\"middle\" x=\"30.0\" y=\"25.0\">0: </text><rect fill=\"white\" height=\"40\" stroke=\"black\" stroke-width=\"0\" width=\"40\" x=\"10.0\" y=\"55.0\"/><text dominant-baseline=\"middle\" font-size=\"14px\" text-anchor=\"middle\" x=\"30.0\" y=\"75.0\">1: </text><rect fill=\"white\" height=\"40\" stroke=\"black\" stroke-width=\"1\" width=\"67.05328125\" x=\"70.0\" y=\"5.0\"/><text dominant-baseline=\"middle\" font-size=\"14px\" text-anchor=\"middle\" x=\"103.526640625\" y=\"25.0\">Rx(0.0π)</text><rect fill=\"white\" height=\"40\" stroke=\"black\" stroke-width=\"1\" width=\"67.04234375000001\" x=\"157.05328125\" y=\"5.0\"/><text dominant-baseline=\"middle\" font-size=\"14px\" text-anchor=\"middle\" x=\"190.574453125\" y=\"25.0\">Ry(0.0π)</text><circle cx=\"264.09562500000004\" cy=\"25.0\" r=\"10.0\"/><rect fill=\"white\" height=\"40\" stroke=\"black\" stroke-width=\"1\" width=\"40\" x=\"244.09562500000004\" y=\"55.0\"/><text dominant-baseline=\"middle\" font-size=\"18px\" text-anchor=\"middle\" x=\"264.09562500000004\" y=\"75.0\">X</text><rect fill=\"white\" height=\"40\" stroke=\"black\" stroke-width=\"1\" width=\"69.2066015625\" x=\"304.09562500000004\" y=\"5.0\"/><text dominant-baseline=\"middle\" font-size=\"14px\" text-anchor=\"middle\" x=\"338.69892578125007\" y=\"25.0\">D(0.005)</text><rect fill=\"white\" height=\"40\" stroke=\"black\" stroke-width=\"1\" width=\"69.2066015625\" x=\"304.09562500000004\" y=\"55.0\"/><text dominant-baseline=\"middle\" font-size=\"14px\" text-anchor=\"middle\" x=\"338.69892578125007\" y=\"75.0\">D(0.005)</text><rect fill=\"white\" height=\"40\" stroke=\"black\" stroke-width=\"1\" width=\"40\" x=\"393.30222656250004\" y=\"5.0\"/><text dominant-baseline=\"middle\" font-size=\"18px\" text-anchor=\"middle\" x=\"413.30222656250004\" y=\"25.0\">M</text><rect fill=\"white\" height=\"40\" stroke=\"black\" stroke-width=\"1\" width=\"40\" x=\"393.30222656250004\" y=\"55.0\"/><text dominant-baseline=\"middle\" font-size=\"18px\" text-anchor=\"middle\" x=\"413.30222656250004\" y=\"75.0\">M</text></svg>"
          },
          "metadata": {
            "tags": []
          }
        },
        {
          "output_type": "stream",
          "text": [
            "[[0.0, 0.0], [0.995, 0.004, 0.001, 0.0], 0.995]\n"
          ],
          "name": "stdout"
        }
      ]
    },
    {
      "cell_type": "markdown",
      "metadata": {
        "id": "1QEfXY2pjYqE",
        "colab_type": "text"
      },
      "source": [
        "Make 1 exploritory move in the space by delta. This sets up our space so that we can use these two points to aproximate a derivitive. "
      ]
    },
    {
      "cell_type": "code",
      "metadata": {
        "id": "4lMcY_fOsRTF",
        "colab_type": "code",
        "colab": {}
      },
      "source": [
        "thetas=[theta+delta for theta in thetas]\n",
        "circuit=updateCircuit(thetas[0],thetas[1])\n",
        "result=cirq.sample(circuit, repetitions=reps).histogram(key='0,1')\n",
        "probs=[]\n",
        "for i in range(4):\n",
        "  probs.append(result[i]/reps)\n",
        "results.append([thetas,probs,loss(probs)])\n",
        "run+=1"
      ],
      "execution_count": 0,
      "outputs": []
    },
    {
      "cell_type": "code",
      "metadata": {
        "id": "OPomOAortm38",
        "colab_type": "code",
        "outputId": "65d40c75-8ce4-4225-b8ff-6dbbf3dbb290",
        "colab": {
          "base_uri": "https://localhost:8080/",
          "height": 138
        }
      },
      "source": [
        "print(results)\n",
        "cprint(circuit)"
      ],
      "execution_count": 9,
      "outputs": [
        {
          "output_type": "stream",
          "text": [
            "[[[0.0, 0.0], [0.995, 0.004, 0.001, 0.0], 0.995], [[0.05, 0.05], [0.98, 0.003, 0.003, 0.014], 0.966]]\n"
          ],
          "name": "stdout"
        },
        {
          "output_type": "display_data",
          "data": {
            "text/plain": [
              "<IPython.core.display.SVG object>"
            ],
            "image/svg+xml": "<svg height=\"100.0\" width=\"501.1166796875\" xmlns=\"http://www.w3.org/2000/svg\"><line stroke=\"#1967d2\" stroke-width=\"1\" x1=\"30.0\" x2=\"471.1166796875\" y1=\"25.0\" y2=\"25.0\"/><line stroke=\"#1967d2\" stroke-width=\"1\" x1=\"30.0\" x2=\"471.1166796875\" y1=\"75.0\" y2=\"75.0\"/><line stroke=\"black\" stroke-width=\"3\" x1=\"281.910078125\" x2=\"281.910078125\" y1=\"25.0\" y2=\"75.0\"/><line stroke=\"black\" stroke-width=\"3\" x1=\"431.1166796875\" x2=\"431.1166796875\" y1=\"25.0\" y2=\"75.0\"/><rect fill=\"white\" height=\"40\" stroke=\"black\" stroke-width=\"0\" width=\"40\" x=\"10.0\" y=\"5.0\"/><text dominant-baseline=\"middle\" font-size=\"14px\" text-anchor=\"middle\" x=\"30.0\" y=\"25.0\">0: </text><rect fill=\"white\" height=\"40\" stroke=\"black\" stroke-width=\"0\" width=\"40\" x=\"10.0\" y=\"55.0\"/><text dominant-baseline=\"middle\" font-size=\"14px\" text-anchor=\"middle\" x=\"30.0\" y=\"75.0\">1: </text><rect fill=\"white\" height=\"40\" stroke=\"black\" stroke-width=\"1\" width=\"75.96050781250001\" x=\"70.0\" y=\"5.0\"/><text dominant-baseline=\"middle\" font-size=\"14px\" text-anchor=\"middle\" x=\"107.98025390625\" y=\"25.0\">Rx(0.05π)</text><rect fill=\"white\" height=\"40\" stroke=\"black\" stroke-width=\"1\" width=\"75.9495703125\" x=\"165.9605078125\" y=\"5.0\"/><text dominant-baseline=\"middle\" font-size=\"14px\" text-anchor=\"middle\" x=\"203.93529296875\" y=\"25.0\">Ry(0.05π)</text><circle cx=\"281.910078125\" cy=\"25.0\" r=\"10.0\"/><rect fill=\"white\" height=\"40\" stroke=\"black\" stroke-width=\"1\" width=\"40\" x=\"261.910078125\" y=\"55.0\"/><text dominant-baseline=\"middle\" font-size=\"18px\" text-anchor=\"middle\" x=\"281.910078125\" y=\"75.0\">X</text><rect fill=\"white\" height=\"40\" stroke=\"black\" stroke-width=\"1\" width=\"69.2066015625\" x=\"321.9100781249999\" y=\"5.0\"/><text dominant-baseline=\"middle\" font-size=\"14px\" text-anchor=\"middle\" x=\"356.51337890624995\" y=\"25.0\">D(0.005)</text><rect fill=\"white\" height=\"40\" stroke=\"black\" stroke-width=\"1\" width=\"69.2066015625\" x=\"321.9100781249999\" y=\"55.0\"/><text dominant-baseline=\"middle\" font-size=\"14px\" text-anchor=\"middle\" x=\"356.51337890624995\" y=\"75.0\">D(0.005)</text><rect fill=\"white\" height=\"40\" stroke=\"black\" stroke-width=\"1\" width=\"40\" x=\"411.1166796875\" y=\"5.0\"/><text dominant-baseline=\"middle\" font-size=\"18px\" text-anchor=\"middle\" x=\"431.1166796875\" y=\"25.0\">M</text><rect fill=\"white\" height=\"40\" stroke=\"black\" stroke-width=\"1\" width=\"40\" x=\"411.1166796875\" y=\"55.0\"/><text dominant-baseline=\"middle\" font-size=\"18px\" text-anchor=\"middle\" x=\"431.1166796875\" y=\"75.0\">M</text></svg>"
          },
          "metadata": {
            "tags": []
          }
        }
      ]
    },
    {
      "cell_type": "markdown",
      "metadata": {
        "id": "f-9Ufda4jl16",
        "colab_type": "text"
      },
      "source": [
        "### Descend!\n",
        "Finally, we run our gradient decent problem to find some thetas that satifiy our error tolerance. This is the simplest itteration of this problem. Since we know beforehand that the solution is both angles should be pi/2, we can step through both angles in each step at the same time. This wont work for all problems of this type (given some gates find the paramters that give a particular solution) but will work for this one. We will update this later on. "
      ]
    },
    {
      "cell_type": "code",
      "metadata": {
        "id": "VlWPywfoCUmg",
        "colab_type": "code",
        "outputId": "3723a7aa-c9e0-4577-9473-3baab92f771e",
        "colab": {
          "base_uri": "https://localhost:8080/",
          "height": 119
        }
      },
      "source": [
        "while True:\n",
        "  #thetas=[theta-4*(results[run][2]-results[run-1][2]) for theta in thetas]\n",
        "  thetas=[thetas[i]-delta*(results[run][2]-results[run-1][2])/(results[run][0][i]-results[run-1][0][i]) for i in range(len(thetas))]\n",
        "  circuit=updateCircuit(thetas[0],thetas[1])\n",
        "  result=cirq.sample(circuit, repetitions=reps).histogram(key='0,1')\n",
        "  probs=[]\n",
        "  for i in range(4):\n",
        "    probs.append(result[i]/reps)\n",
        "  results.append([thetas,probs,loss(probs)])\n",
        "  run+=1\n",
        "  print(\"Qubits: \"+ str(results[run][0])+\". Loss: \" + str(results[run][2])+\"  Probs: \"+str(results[run][1]))\n",
        "  if results[run][2]<errorTol:\n",
        "    break\n",
        "  elif run>1000:\n",
        "    break\n",
        "\n",
        "print(results[run])\n"
      ],
      "execution_count": 10,
      "outputs": [
        {
          "output_type": "stream",
          "text": [
            "Qubits: [0.07900000000000003, 0.07900000000000003]. Loss: 0.944  Probs: [0.97, 0.002, 0.002, 0.026]\n",
            "Qubits: [0.11693103448275866, 0.11693103448275866]. Loss: 0.8740000000000001  Probs: [0.935, 0.001, 0.003, 0.061]\n",
            "Qubits: [0.20920376175548572, 0.20920376175548572]. Loss: 0.611  Probs: [0.801, 0.003, 0.006, 0.19]\n",
            "Qubits: [0.35171607702642205, 0.35171607702642205]. Loss: 0.176  Probs: [0.585, 0.003, 0.003, 0.409]\n",
            "Qubits: [0.504334466241769, 0.504334466241769]. Loss: 0.02200000000000002  Probs: [0.484, 0.004, 0.006, 0.506]\n",
            "[[0.504334466241769, 0.504334466241769], [0.484, 0.004, 0.006, 0.506], 0.02200000000000002]\n"
          ],
          "name": "stdout"
        }
      ]
    },
    {
      "cell_type": "markdown",
      "metadata": {
        "id": "PjzQRDkFjo-i",
        "colab_type": "text"
      },
      "source": [
        "# Implementing a Jiggle\n",
        "The above code works reasonably well, but after running it a couple of times with different learning rates and `reps`, a major flaw becomes clear (aside from steping X and Y at the same time). Our simple gradient decent algorithim works like this \n",
        "<br>\n",
        "$ \\theta_{n+1} = \\theta_n - \\lambda(\\frac{\\partial f(\\theta)}{\\partial \\theta})_{\\theta = \\theta_n} $\n",
        "<br> \n",
        "Where $f$ is our loss function (defined as `loss` in this code), which is a function of the circuit we are trying to learn, and for some learning rate $\\lambda$. Now, we dont know $\\frac{\\partial f(\\theta)}{\\partial \\theta}$, so we will be aproximating it with the first order numerical derivitive (the backwards difference in this case).: \n",
        "<br>\n",
        "$\\frac{\\partial f(\\theta)}{\\partial \\theta} = \\frac{f(\\theta_n)-f(\\theta_{n-1})}{\\theta_n - \\theta_{n-1}}$\n",
        "<br>\n",
        "We could use a more complex aproximation, but this works well enough for our purposes.\n",
        "<br>\n",
        "Finally, our total decent algorithm is:\n",
        "<br> \n",
        "$ \\theta_{n+1} = \\theta_n - \\lambda(\\frac{f(\\theta_n)-f(\\theta_{n-1})}{\\theta_n - \\theta_{n-1}})$\n",
        "<br>\n",
        "This works very well if we live in a classical, and/or deterministic world. The issue comes about because our loss fuction isnt directly a property of the circuit - its dependent on the output of the circuit measurements, which are probabilisitc. At the very start of the algorithim, a change in theta causes a small change in the probabiltiy of measureing the |11> state. If the number of `runs` is small, it is likely that this change will not be seen. Our algorithim then thinks the function in flat, doesnt move our theta, and on the next itteration the program throws an error. We could get around this buy running our quantum circuit many times but lets assume our quantum hardware is costly to set-up, and we want to run it as few times as possible. \n",
        "\n",
        "To get around this, I've implemented what I call a `jiggle`. If our algorithim says that theta shouldnt move, but the error condition is not met, then we apply a small increment to theta to keep the algorithim moving. This `jiggle` should be small enough that if we move our theta in the wrong direction, the derivitive can correct for it and get our theta moving in the right direction."
      ]
    },
    {
      "cell_type": "code",
      "metadata": {
        "id": "HDf-I4j4CVgl",
        "colab_type": "code",
        "colab": {}
      },
      "source": [
        "thetas=[0.,0.] #[X,Y]\n",
        "delta=0.003\n",
        "jiggle=0.01\n",
        "reps=50\n",
        "errorTol=0.01"
      ],
      "execution_count": 0,
      "outputs": []
    },
    {
      "cell_type": "code",
      "metadata": {
        "id": "1Kfqkd2xWWZk",
        "colab_type": "code",
        "outputId": "5d432147-cd0a-4b99-b68a-f446bc1bb5a3",
        "colab": {
          "base_uri": "https://localhost:8080/",
          "height": 138
        }
      },
      "source": [
        "circuit=updateCircuit(thetas[0],thetas[1])\n",
        "cprint(circuit)\n",
        "probs=[]\n",
        "#initial state\n",
        "result=cirq.sample(circuit, repetitions=reps).histogram(key='0,1')\n",
        "for i in range(4):\n",
        "  probs.append(result[i]/reps)\n",
        "results=[[thetas,probs,loss(probs)]]\n",
        "run=0\n",
        "print(results[0])"
      ],
      "execution_count": 12,
      "outputs": [
        {
          "output_type": "display_data",
          "data": {
            "text/plain": [
              "<IPython.core.display.SVG object>"
            ],
            "image/svg+xml": "<svg height=\"100.0\" width=\"483.30222656250004\" xmlns=\"http://www.w3.org/2000/svg\"><line stroke=\"#1967d2\" stroke-width=\"1\" x1=\"30.0\" x2=\"453.30222656250004\" y1=\"25.0\" y2=\"25.0\"/><line stroke=\"#1967d2\" stroke-width=\"1\" x1=\"30.0\" x2=\"453.30222656250004\" y1=\"75.0\" y2=\"75.0\"/><line stroke=\"black\" stroke-width=\"3\" x1=\"264.09562500000004\" x2=\"264.09562500000004\" y1=\"25.0\" y2=\"75.0\"/><line stroke=\"black\" stroke-width=\"3\" x1=\"413.30222656250004\" x2=\"413.30222656250004\" y1=\"25.0\" y2=\"75.0\"/><rect fill=\"white\" height=\"40\" stroke=\"black\" stroke-width=\"0\" width=\"40\" x=\"10.0\" y=\"5.0\"/><text dominant-baseline=\"middle\" font-size=\"14px\" text-anchor=\"middle\" x=\"30.0\" y=\"25.0\">0: </text><rect fill=\"white\" height=\"40\" stroke=\"black\" stroke-width=\"0\" width=\"40\" x=\"10.0\" y=\"55.0\"/><text dominant-baseline=\"middle\" font-size=\"14px\" text-anchor=\"middle\" x=\"30.0\" y=\"75.0\">1: </text><rect fill=\"white\" height=\"40\" stroke=\"black\" stroke-width=\"1\" width=\"67.05328125\" x=\"70.0\" y=\"5.0\"/><text dominant-baseline=\"middle\" font-size=\"14px\" text-anchor=\"middle\" x=\"103.526640625\" y=\"25.0\">Rx(0.0π)</text><rect fill=\"white\" height=\"40\" stroke=\"black\" stroke-width=\"1\" width=\"67.04234375000001\" x=\"157.05328125\" y=\"5.0\"/><text dominant-baseline=\"middle\" font-size=\"14px\" text-anchor=\"middle\" x=\"190.574453125\" y=\"25.0\">Ry(0.0π)</text><circle cx=\"264.09562500000004\" cy=\"25.0\" r=\"10.0\"/><rect fill=\"white\" height=\"40\" stroke=\"black\" stroke-width=\"1\" width=\"40\" x=\"244.09562500000004\" y=\"55.0\"/><text dominant-baseline=\"middle\" font-size=\"18px\" text-anchor=\"middle\" x=\"264.09562500000004\" y=\"75.0\">X</text><rect fill=\"white\" height=\"40\" stroke=\"black\" stroke-width=\"1\" width=\"69.2066015625\" x=\"304.09562500000004\" y=\"5.0\"/><text dominant-baseline=\"middle\" font-size=\"14px\" text-anchor=\"middle\" x=\"338.69892578125007\" y=\"25.0\">D(0.005)</text><rect fill=\"white\" height=\"40\" stroke=\"black\" stroke-width=\"1\" width=\"69.2066015625\" x=\"304.09562500000004\" y=\"55.0\"/><text dominant-baseline=\"middle\" font-size=\"14px\" text-anchor=\"middle\" x=\"338.69892578125007\" y=\"75.0\">D(0.005)</text><rect fill=\"white\" height=\"40\" stroke=\"black\" stroke-width=\"1\" width=\"40\" x=\"393.30222656250004\" y=\"5.0\"/><text dominant-baseline=\"middle\" font-size=\"18px\" text-anchor=\"middle\" x=\"413.30222656250004\" y=\"25.0\">M</text><rect fill=\"white\" height=\"40\" stroke=\"black\" stroke-width=\"1\" width=\"40\" x=\"393.30222656250004\" y=\"55.0\"/><text dominant-baseline=\"middle\" font-size=\"18px\" text-anchor=\"middle\" x=\"413.30222656250004\" y=\"75.0\">M</text></svg>"
          },
          "metadata": {
            "tags": []
          }
        },
        {
          "output_type": "stream",
          "text": [
            "[[0.0, 0.0], [1.0, 0.0, 0.0, 0.0], 1.0]\n"
          ],
          "name": "stdout"
        }
      ]
    },
    {
      "cell_type": "code",
      "metadata": {
        "id": "3fzxr9HYkAT2",
        "colab_type": "code",
        "colab": {}
      },
      "source": [
        "thetas=[theta+delta for theta in thetas]\n",
        "circuit=updateCircuit(thetas[0],thetas[1])\n",
        "result=cirq.sample(circuit, repetitions=reps).histogram(key='0,1')\n",
        "probs=[]\n",
        "for i in range(4):\n",
        "  probs.append(result[i]/reps)\n",
        "results.append([thetas,probs,loss(probs)])\n",
        "run+=1"
      ],
      "execution_count": 0,
      "outputs": []
    },
    {
      "cell_type": "code",
      "metadata": {
        "id": "biaYc1l9lOYx",
        "colab_type": "code",
        "outputId": "26799bb5-503e-4358-e3a8-a9179dab232e",
        "colab": {
          "base_uri": "https://localhost:8080/",
          "height": 34
        }
      },
      "source": [
        "print(results)"
      ],
      "execution_count": 14,
      "outputs": [
        {
          "output_type": "stream",
          "text": [
            "[[[0.0, 0.0], [1.0, 0.0, 0.0, 0.0], 1.0], [[0.003, 0.003], [1.0, 0.0, 0.0, 0.0], 1.0]]\n"
          ],
          "name": "stdout"
        }
      ]
    },
    {
      "cell_type": "code",
      "metadata": {
        "id": "uMSBm7QvkD0L",
        "colab_type": "code",
        "outputId": "31ba5911-51d3-4184-960d-f0ae66fd8d82",
        "colab": {
          "base_uri": "https://localhost:8080/",
          "height": 629
        }
      },
      "source": [
        "while True:\n",
        "  #thetas=[theta-4*(results[run][2]-results[run-1][2]) for theta in thetas]\n",
        "  if np.abs(results[run][0][0]-results[run-1][0][0])>0:\n",
        "    thetas=[thetas[i]-delta*(results[run][2]-results[run-1][2])/(results[run][0][i]-results[run-1][0][i]) for i in range(len(thetas))]\n",
        "  else:\n",
        "    thetas=[theta+jiggle for theta in thetas]\n",
        "    print(\"jiggled\")\n",
        "  circuit=updateCircuit(thetas[0],thetas[1])\n",
        "  result=cirq.sample(circuit, repetitions=reps).histogram(key='0,1')\n",
        "  probs=[]\n",
        "  for i in range(4):\n",
        "    probs.append(result[i]/reps)\n",
        "  results.append([thetas,probs,loss(probs)])\n",
        "  run+=1\n",
        "  print(\"Qubits: \"+ str(results[run][0])+\". Loss: \" + str(results[run][2])+\"  Probs: \"+str(results[run][1]))\n",
        "  if results[run][2]<errorTol:\n",
        "    break\n",
        "  elif run>200:\n",
        "    print(\"Timeout\")\n",
        "    break\n"
      ],
      "execution_count": 15,
      "outputs": [
        {
          "output_type": "stream",
          "text": [
            "Qubits: [0.003, 0.003]. Loss: 1.0  Probs: [1.0, 0.0, 0.0, 0.0]\n",
            "jiggled\n",
            "Qubits: [0.013000000000000001, 0.013000000000000001]. Loss: 1.0  Probs: [1.0, 0.0, 0.0, 0.0]\n",
            "Qubits: [0.013000000000000001, 0.013000000000000001]. Loss: 1.0  Probs: [1.0, 0.0, 0.0, 0.0]\n",
            "jiggled\n",
            "Qubits: [0.023, 0.023]. Loss: 0.98  Probs: [0.98, 0.02, 0.0, 0.0]\n",
            "Qubits: [0.029000000000000005, 0.029000000000000005]. Loss: 0.98  Probs: [0.98, 0.0, 0.02, 0.0]\n",
            "Qubits: [0.029000000000000005, 0.029000000000000005]. Loss: 1.0  Probs: [1.0, 0.0, 0.0, 0.0]\n",
            "jiggled\n",
            "Qubits: [0.03900000000000001, 0.03900000000000001]. Loss: 0.98  Probs: [0.98, 0.02, 0.0, 0.0]\n",
            "Qubits: [0.04500000000000001, 0.04500000000000001]. Loss: 1.0  Probs: [1.0, 0.0, 0.0, 0.0]\n",
            "Qubits: [0.03500000000000001, 0.03500000000000001]. Loss: 0.96  Probs: [0.98, 0.0, 0.0, 0.02]\n",
            "Qubits: [0.023, 0.023]. Loss: 1.0  Probs: [1.0, 0.0, 0.0, 0.0]\n",
            "Qubits: [0.033, 0.033]. Loss: 0.98  Probs: [0.98, 0.02, 0.0, 0.0]\n",
            "Qubits: [0.03900000000000001, 0.03900000000000001]. Loss: 0.98  Probs: [0.98, 0.02, 0.0, 0.0]\n",
            "Qubits: [0.03900000000000001, 0.03900000000000001]. Loss: 1.0  Probs: [1.0, 0.0, 0.0, 0.0]\n",
            "jiggled\n",
            "Qubits: [0.04900000000000001, 0.04900000000000001]. Loss: 0.98  Probs: [0.98, 0.02, 0.0, 0.0]\n",
            "Qubits: [0.055000000000000014, 0.055000000000000014]. Loss: 0.96  Probs: [0.98, 0.0, 0.0, 0.02]\n",
            "Qubits: [0.06500000000000002, 0.06500000000000002]. Loss: 1.0  Probs: [1.0, 0.0, 0.0, 0.0]\n",
            "Qubits: [0.053000000000000005, 0.053000000000000005]. Loss: 0.9199999999999999  Probs: [0.96, 0.0, 0.0, 0.04]\n",
            "Qubits: [0.033, 0.033]. Loss: 0.98  Probs: [0.98, 0.0, 0.02, 0.0]\n",
            "Qubits: [0.04200000000000001, 0.04200000000000001]. Loss: 1.0  Probs: [1.0, 0.0, 0.0, 0.0]\n",
            "Qubits: [0.03533333333333334, 0.03533333333333334]. Loss: 1.0  Probs: [1.0, 0.0, 0.0, 0.0]\n",
            "Qubits: [0.03533333333333334, 0.03533333333333334]. Loss: 1.0  Probs: [1.0, 0.0, 0.0, 0.0]\n",
            "jiggled\n",
            "Qubits: [0.045333333333333344, 0.045333333333333344]. Loss: 1.0  Probs: [1.0, 0.0, 0.0, 0.0]\n",
            "Qubits: [0.045333333333333344, 0.045333333333333344]. Loss: 0.8800000000000001  Probs: [0.92, 0.02, 0.02, 0.04]\n",
            "jiggled\n",
            "Qubits: [0.055333333333333345, 0.055333333333333345]. Loss: 0.8799999999999999  Probs: [0.94, 0.0, 0.0, 0.06]\n",
            "Qubits: [0.055333333333333415, 0.055333333333333415]. Loss: 0.94  Probs: [0.96, 0.0, 0.02, 0.02]\n",
            "Qubits: [-2594073385365.353, -2594073385365.353]. Loss: 0.17999999999999994  Probs: [0.58, 0.02, 0.0, 0.4]\n",
            "Qubits: [-2594073385365.353, -2594073385365.353]. Loss: 0.19999999999999996  Probs: [0.6, 0.0, 0.0, 0.4]\n",
            "jiggled\n",
            "Qubits: [-2594073385365.3433, -2594073385365.3433]. Loss: 0.36000000000000004  Probs: [0.68, 0.0, 0.0, 0.32]\n",
            "Qubits: [-2594073385365.3926, -2594073385365.3926]. Loss: 0.0  Probs: [0.5, 0.0, 0.0, 0.5]\n"
          ],
          "name": "stdout"
        }
      ]
    },
    {
      "cell_type": "markdown",
      "metadata": {
        "id": "gvK-EK9wxEzs",
        "colab_type": "text"
      },
      "source": [
        "## Expanding on the jiggle\n",
        "\n",
        "The jiggle seems to have solved our initial problem! But we have found another problem. For experiments with higher learning rates (rate~=0.01), and lower number of `reps` (aprox. 100), our thetas seem to move smoothly, and the suddently jump to a wildly different value.\n",
        "\n",
        "What happens is sometimes, our theta will move by a small amount, implying a small change in the function; however, randomly, sometimes the function changes a lot due to the random nature of the quantum computing, not because of a large change in theta. This causes a large random jump around the problem space. \n",
        "\n",
        "In theory, implementing a higher order aproximation of our derivitive could help with this. With a second or third order aproximation, we could take into account more of the information around our point and mitigate the effect of a random large variation.\n",
        "\n",
        "Alternativly, we could set a minimum step size (basically our jiggle), and or a maximum step size. If we set a minimum, we don't want our function to move in large jumps as it reaches the solution, so it makes sense to make this miniumum step size decrease with the itteration number. On the other hand, for a maximum step size, we would do same thing, to cap the movement of our thetas as we get closer to the solution. This follows a simliar logic to simulated anealing, but in this case the large jumping exploration of the state space is driven by the quantum system itself, not the algorithim. \n",
        "\n",
        "Finally, as a easy to implement option, we could set guidelines/limits on what our learning rate `delta`, could be for a given number circuit queries `reps`. This makes the weighting of the derivitive small enough that the probabilistic jumps are mitigated. In practice $ delta = 0.00005*reps$ works well. The issue here is that as we aproach a small number of `reps`, our delta is very small, and we invoke the jiggle frequently. "
      ]
    },
    {
      "cell_type": "markdown",
      "metadata": {
        "id": "58T2VG_BEAD-",
        "colab_type": "text"
      },
      "source": [
        "# Separating X and Y\n",
        "The previous algorithim worked well to explore how gradient descent works in this case, but for a proper implimentation we should sepearate the effect of rotations in x, and rotations in y. I've also cleaned up the code a little."
      ]
    },
    {
      "cell_type": "code",
      "metadata": {
        "id": "Y2JvpgAMlHPs",
        "colab_type": "code",
        "outputId": "2cf1fba2-6b8c-454a-a2ab-b0d638b08e5e",
        "colab": {
          "base_uri": "https://localhost:8080/",
          "height": 1000
        }
      },
      "source": [
        "thetas=[0.,0.] #[X,Y]\n",
        "delta=0.01\n",
        "jiggle=0.001\n",
        "reps=1000\n",
        "errorTol=0.01\n",
        "\n",
        "#setup\n",
        "circuit=updateCircuit(thetas[0],thetas[1])\n",
        "cprint(circuit)\n",
        "probs=[]\n",
        "\n",
        "#initial state\n",
        "result=cirq.sample(circuit, repetitions=reps).histogram(key='0,1')\n",
        "for i in range(4):\n",
        "  probs.append(result[i]/reps)\n",
        "results=[[[thetas[0],thetas[1]],probs,loss(probs)]]\n",
        "print(results)\n",
        "\n",
        "#initial X\n",
        "thetas[0]=thetas[0]+jiggle\n",
        "circuit=updateCircuit(thetas[0],thetas[1])\n",
        "result=cirq.sample(circuit, repetitions=reps).histogram(key='0,1')\n",
        "probs=[]\n",
        "\n",
        "for i in range(4):\n",
        "  probs.append(result[i]/reps)\n",
        "results.append([[thetas[0],thetas[1]],probs,loss(probs)]) # [thetas[0],thetas[1]] instead of thetas because of a weird python issue where it keeps pointing to the var thetas instead of taking its values\n",
        "\n",
        "if np.abs(results[-1][0][0]-results[-2][0][0])>0:\n",
        "  updateX=-delta*(results[-1][2]-results[-2][2])/(results[-1][0][0]-results[-2][0][0])\n",
        "else:\n",
        "  updateX=jiggle\n",
        "\n",
        "#initial Y\n",
        "thetas[1]=thetas[1]+jiggle\n",
        "circuit=updateCircuit(thetas[0],thetas[1])\n",
        "result=cirq.sample(circuit, repetitions=reps).histogram(key='0,1')\n",
        "probs=[]\n",
        "\n",
        "for i in range(4):\n",
        "  probs.append(result[i]/reps)\n",
        "results.append([[thetas[0],thetas[1]],probs,loss(probs)])\n",
        "\n",
        "if np.abs(results[-1][0][1]-results[-2][0][1])>0:\n",
        "  updateY=-delta*(results[-1][2]-results[-2][2])/(results[-1][0][1]-results[-2][0][1])\n",
        "else:\n",
        "  updateY=jiggle\n",
        "\n",
        "\n",
        "while True:\n",
        "  #step in X\n",
        "  thetas[0]=thetas[0]+updateX\n",
        "  circuit=updateCircuit(thetas[0],thetas[1])\n",
        "  result=cirq.sample(circuit, repetitions=reps).histogram(key='0,1')\n",
        "\n",
        "  probs=[]\n",
        "  for i in range(4):\n",
        "    probs.append(result[i]/reps)\n",
        "  results.append([[thetas[0],thetas[1]],probs,loss(probs)])\n",
        "\n",
        "  print(\"run: \"+str(len(results))+\", Qubits: \"+ str(results[-1][0])+\". Loss: \" + str(results[-1][2])+\"  Probs: \"+str(results[-1][1]))\n",
        "  if np.abs(results[-1][0][0]-results[-2][0][0])>0:\n",
        "    updateX=-delta*(results[-1][2]-results[-2][2])/(results[-1][0][0]-results[-2][0][0])\n",
        "  else:\n",
        "    updateX=jiggle\n",
        "    print(\"will jiggle X\")\n",
        "  if results[-1][2]<errorTol:\n",
        "    break \n",
        "\n",
        "  \n",
        "  #step in Y\n",
        "  thetas[1]=thetas[1]+updateY\n",
        "  circuit=updateCircuit(thetas[0],thetas[1])\n",
        "  result=cirq.sample(circuit, repetitions=reps).histogram(key='0,1')\n",
        "  probs=[]\n",
        "  for i in range(4):\n",
        "    probs.append(result[i]/reps)\n",
        "  results.append([[thetas[0],thetas[1]],probs,loss(probs)])\n",
        "  print(\"run: \"+str(len(results))+\", Qubits: \"+ str(results[-1][0])+\". Loss: \" + str(results[-1][2])+\"  Probs: \"+str(results[-1][1]))\n",
        "  if np.abs(results[-1][0][1]-results[-2][0][1])>0:\n",
        "    updateY=-delta*(results[-1][2]-results[-2][2])/(results[-1][0][1]-results[-2][0][1])\n",
        "  else:\n",
        "    updateY=jiggle\n",
        "    print(\"will jiggle Y\")\n",
        "  if results[-1][2]<errorTol:\n",
        "    break \n",
        "\n"
      ],
      "execution_count": 16,
      "outputs": [
        {
          "output_type": "display_data",
          "data": {
            "text/plain": [
              "<IPython.core.display.SVG object>"
            ],
            "image/svg+xml": "<svg height=\"100.0\" width=\"483.30222656250004\" xmlns=\"http://www.w3.org/2000/svg\"><line stroke=\"#1967d2\" stroke-width=\"1\" x1=\"30.0\" x2=\"453.30222656250004\" y1=\"25.0\" y2=\"25.0\"/><line stroke=\"#1967d2\" stroke-width=\"1\" x1=\"30.0\" x2=\"453.30222656250004\" y1=\"75.0\" y2=\"75.0\"/><line stroke=\"black\" stroke-width=\"3\" x1=\"264.09562500000004\" x2=\"264.09562500000004\" y1=\"25.0\" y2=\"75.0\"/><line stroke=\"black\" stroke-width=\"3\" x1=\"413.30222656250004\" x2=\"413.30222656250004\" y1=\"25.0\" y2=\"75.0\"/><rect fill=\"white\" height=\"40\" stroke=\"black\" stroke-width=\"0\" width=\"40\" x=\"10.0\" y=\"5.0\"/><text dominant-baseline=\"middle\" font-size=\"14px\" text-anchor=\"middle\" x=\"30.0\" y=\"25.0\">0: </text><rect fill=\"white\" height=\"40\" stroke=\"black\" stroke-width=\"0\" width=\"40\" x=\"10.0\" y=\"55.0\"/><text dominant-baseline=\"middle\" font-size=\"14px\" text-anchor=\"middle\" x=\"30.0\" y=\"75.0\">1: </text><rect fill=\"white\" height=\"40\" stroke=\"black\" stroke-width=\"1\" width=\"67.05328125\" x=\"70.0\" y=\"5.0\"/><text dominant-baseline=\"middle\" font-size=\"14px\" text-anchor=\"middle\" x=\"103.526640625\" y=\"25.0\">Rx(0.0π)</text><rect fill=\"white\" height=\"40\" stroke=\"black\" stroke-width=\"1\" width=\"67.04234375000001\" x=\"157.05328125\" y=\"5.0\"/><text dominant-baseline=\"middle\" font-size=\"14px\" text-anchor=\"middle\" x=\"190.574453125\" y=\"25.0\">Ry(0.0π)</text><circle cx=\"264.09562500000004\" cy=\"25.0\" r=\"10.0\"/><rect fill=\"white\" height=\"40\" stroke=\"black\" stroke-width=\"1\" width=\"40\" x=\"244.09562500000004\" y=\"55.0\"/><text dominant-baseline=\"middle\" font-size=\"18px\" text-anchor=\"middle\" x=\"264.09562500000004\" y=\"75.0\">X</text><rect fill=\"white\" height=\"40\" stroke=\"black\" stroke-width=\"1\" width=\"69.2066015625\" x=\"304.09562500000004\" y=\"5.0\"/><text dominant-baseline=\"middle\" font-size=\"14px\" text-anchor=\"middle\" x=\"338.69892578125007\" y=\"25.0\">D(0.005)</text><rect fill=\"white\" height=\"40\" stroke=\"black\" stroke-width=\"1\" width=\"69.2066015625\" x=\"304.09562500000004\" y=\"55.0\"/><text dominant-baseline=\"middle\" font-size=\"14px\" text-anchor=\"middle\" x=\"338.69892578125007\" y=\"75.0\">D(0.005)</text><rect fill=\"white\" height=\"40\" stroke=\"black\" stroke-width=\"1\" width=\"40\" x=\"393.30222656250004\" y=\"5.0\"/><text dominant-baseline=\"middle\" font-size=\"18px\" text-anchor=\"middle\" x=\"413.30222656250004\" y=\"25.0\">M</text><rect fill=\"white\" height=\"40\" stroke=\"black\" stroke-width=\"1\" width=\"40\" x=\"393.30222656250004\" y=\"55.0\"/><text dominant-baseline=\"middle\" font-size=\"18px\" text-anchor=\"middle\" x=\"413.30222656250004\" y=\"75.0\">M</text></svg>"
          },
          "metadata": {
            "tags": []
          }
        },
        {
          "output_type": "stream",
          "text": [
            "[[[0.0, 0.0], [0.994, 0.002, 0.004, 0.0], 0.994]]\n",
            "run: 4, Qubits: [-0.019000000000000017, 0.001]. Loss: 0.992  Probs: [0.994, 0.001, 0.003, 0.002]\n",
            "run: 5, Qubits: [-0.019000000000000017, -0.009000000000000008]. Loss: 0.99  Probs: [0.993, 0.001, 0.003, 0.003]\n",
            "run: 6, Qubits: [-0.021500000000000016, -0.009000000000000008]. Loss: 0.995  Probs: [0.995, 0.005, 0.0, 0.0]\n",
            "run: 7, Qubits: [-0.021500000000000016, -0.011000000000000008]. Loss: 0.99  Probs: [0.993, 0.003, 0.001, 0.003]\n",
            "run: 8, Qubits: [-0.0014999999999999875, -0.011000000000000008]. Loss: 0.988  Probs: [0.989, 0.002, 0.008, 0.001]\n",
            "run: 9, Qubits: [-0.0014999999999999875, -0.03600000000000003]. Loss: 0.991  Probs: [0.992, 0.004, 0.003, 0.001]\n",
            "run: 10, Qubits: [-0.0004999999999999879, -0.03600000000000003]. Loss: 0.982  Probs: [0.986, 0.007, 0.003, 0.004]\n",
            "run: 11, Qubits: [-0.0004999999999999879, -0.03480000000000003]. Loss: 0.988  Probs: [0.991, 0.002, 0.004, 0.003]\n",
            "run: 12, Qubits: [0.08950000000000014, -0.03480000000000003]. Loss: 0.9359999999999999  Probs: [0.966, 0.0, 0.004, 0.03]\n",
            "run: 13, Qubits: [0.08950000000000014, -0.0848000000000001]. Loss: 0.9229999999999999  Probs: [0.958, 0.005, 0.002, 0.035]\n",
            "run: 14, Qubits: [0.0952777777777779, -0.0848000000000001]. Loss: 0.9059999999999999  Probs: [0.95, 0.004, 0.002, 0.044]\n",
            "run: 15, Qubits: [0.0952777777777779, -0.0874000000000001]. Loss: 0.915  Probs: [0.954, 0.003, 0.004, 0.039]\n",
            "run: 16, Qubits: [0.12470085470085489, -0.0874000000000001]. Loss: 0.9039999999999999  Probs: [0.949, 0.003, 0.003, 0.045]\n",
            "run: 17, Qubits: [0.12470085470085489, -0.0527846153846151]. Loss: 0.8999999999999999  Probs: [0.945, 0.004, 0.006, 0.045]\n",
            "run: 18, Qubits: [0.12843941679235818, -0.0527846153846151]. Loss: 0.915  Probs: [0.955, 0.001, 0.004, 0.04]\n",
            "run: 19, Qubits: [0.12843941679235818, -0.051629059829059555]. Loss: 0.8939999999999999  Probs: [0.942, 0.006, 0.004, 0.048]\n",
            "run: 20, Qubits: [0.08831703916998049, -0.051629059829059555]. Loss: 0.945  Probs: [0.969, 0.006, 0.001, 0.024]\n",
            "run: 21, Qubits: [0.08831703916998049, 0.130101709401713]. Loss: 0.8680000000000001  Probs: [0.93, 0.004, 0.004, 0.062]\n",
            "run: 22, Qubits: [0.10102815028109159, 0.130101709401713]. Loss: 0.8780000000000001  Probs: [0.937, 0.001, 0.003, 0.059]\n",
            "run: 23, Qubits: [0.10102815028109159, 0.13433874643874996]. Loss: 0.845  Probs: [0.919, 0.001, 0.006, 0.074]\n",
            "run: 24, Qubits: [0.09316101741395871, 0.13433874643874996]. Loss: 0.8660000000000001  Probs: [0.931, 0.003, 0.001, 0.065]\n",
            "run: 25, Qubits: [0.09316101741395871, 0.21222336182336715]. Loss: 0.743  Probs: [0.867, 0.006, 0.003, 0.124]\n",
            "run: 26, Qubits: [0.11985435074729217, 0.21222336182336715]. Loss: 0.756  Probs: [0.876, 0.002, 0.002, 0.12]\n",
            "run: 27, Qubits: [0.11985435074729217, 0.2280159544159594]. Loss: 0.695  Probs: [0.844, 0.003, 0.004, 0.149]\n",
            "run: 28, Qubits: [0.11498422087716231, 0.2280159544159594]. Loss: 0.73  Probs: [0.862, 0.003, 0.003, 0.132]\n",
            "run: 29, Qubits: [0.11498422087716231, 0.26664165798068823]. Loss: 0.6160000000000001  Probs: [0.806, 0.002, 0.002, 0.19]\n",
            "run: 30, Qubits: [0.18685088754382922, 0.26664165798068823]. Loss: 0.518  Probs: [0.753, 0.003, 0.009, 0.235]\n",
            "run: 31, Qubits: [0.18685088754382922, 0.29615568348159826]. Loss: 0.484  Probs: [0.738, 0.004, 0.004, 0.254]\n",
            "run: 32, Qubits: [0.20048725118019284, 0.29615568348159826]. Loss: 0.47  Probs: [0.732, 0.003, 0.003, 0.262]\n",
            "run: 33, Qubits: [0.20048725118019284, 0.3076756301587981]. Loss: 0.496  Probs: [0.743, 0.005, 0.005, 0.247]\n",
            "run: 34, Qubits: [0.21075391784685954, 0.3076756301587981]. Loss: 0.43699999999999994  Probs: [0.712, 0.007, 0.006, 0.275]\n",
            "run: 35, Qubits: [0.21075391784685954, 0.2851060812463375]. Loss: 0.513  Probs: [0.754, 0.001, 0.004, 0.241]\n",
            "run: 36, Qubits: [0.2682214503143919, 0.2851060812463375]. Loss: 0.41  Probs: [0.701, 0.005, 0.003, 0.291]\n",
            "run: 37, Qubits: [0.2682214503143919, 0.3187797715335371]. Loss: 0.327  Probs: [0.658, 0.004, 0.007, 0.331]\n",
            "run: 38, Qubits: [0.28614461415619985, 0.3187797715335371]. Loss: 0.321  Probs: [0.657, 0.002, 0.005, 0.336]\n",
            "run: 39, Qubits: [0.28614461415619985, 0.34342809468793484]. Loss: 0.23299999999999998  Probs: [0.612, 0.004, 0.005, 0.379]\n",
            "run: 40, Qubits: [0.2894922374067357, 0.34342809468793484]. Loss: 0.339  Probs: [0.667, 0.001, 0.004, 0.328]\n",
            "run: 41, Qubits: [0.2894922374067357, 0.37913032053460427]. Loss: 0.252  Probs: [0.62, 0.006, 0.006, 0.368]\n",
            "run: 42, Qubits: [-0.027150323798540876, 0.37913032053460427]. Loss: 0.40599999999999997  Probs: [0.699, 0.005, 0.003, 0.293]\n",
            "run: 43, Qubits: [-0.027150323798540876, 0.40349854910770205]. Loss: 0.29700000000000004  Probs: [0.644, 0.005, 0.004, 0.347]\n",
            "run: 44, Qubits: [-0.02228679567983787, 0.40349854910770205]. Loss: 0.269  Probs: [0.632, 0.003, 0.002, 0.363]\n",
            "run: 45, Qubits: [-0.02228679567983787, 0.44822892401904646]. Loss: 0.246  Probs: [0.621, 0.001, 0.003, 0.375]\n",
            "run: 46, Qubits: [0.035284579084757926, 0.44822892401904646]. Loss: 0.14899999999999997  Probs: [0.571, 0.004, 0.003, 0.422]\n",
            "run: 47, Qubits: [0.035284579084757926, 0.4533708438097001]. Loss: 0.14199999999999996  Probs: [0.568, 0.003, 0.003, 0.426]\n",
            "run: 48, Qubits: [0.05213323006740761, 0.4533708438097001]. Loss: 0.16899999999999998  Probs: [0.584, 0.001, 0.0, 0.415]\n",
            "run: 49, Qubits: [0.05213323006740761, 0.46698443617402235]. Loss: 0.13899999999999996  Probs: [0.566, 0.003, 0.004, 0.427]\n",
            "run: 50, Qubits: [0.03610820822571599, 0.46698443617402235]. Loss: 0.09600000000000003  Probs: [0.545, 0.005, 0.001, 0.449]\n",
            "run: 51, Qubits: [0.03610820822571599, 0.48902123527682373]. Loss: 0.010000000000000009  Probs: [0.493, 0.004, 0.006, 0.497]\n",
            "run: 52, Qubits: [0.009275171475570259, 0.48902123527682373]. Loss: 0.027000000000000024  Probs: [0.511, 0.004, 0.001, 0.484]\n",
            "run: 53, Qubits: [0.009275171475570259, 0.5280468667212141]. Loss: 0.07200000000000001  Probs: [0.461, 0.003, 0.003, 0.533]\n",
            "run: 54, Qubits: [0.01561064522693673, 0.5280468667212141]. Loss: 0.10900000000000004  Probs: [0.443, 0.004, 0.001, 0.552]\n",
            "run: 55, Qubits: [0.01561064522693673, 0.5165159834697484]. Loss: 0.041000000000000036  Probs: [0.476, 0.003, 0.004, 0.517]\n",
            "run: 56, Qubits: [-0.04279067005279222, 0.5165159834697484]. Loss: 0.03400000000000003  Probs: [0.476, 0.004, 0.01, 0.51]\n",
            "run: 57, Qubits: [-0.04279067005279222, 0.4575439181760026]. Loss: 0.07700000000000001  Probs: [0.536, 0.001, 0.004, 0.459]\n",
            "run: 58, Qubits: [-0.043989273194942634, 0.4575439181760026]. Loss: 0.10400000000000004  Probs: [0.55, 0.002, 0.002, 0.446]\n",
            "run: 59, Qubits: [-0.043989273194942634, 0.4648355061144295]. Loss: 0.05499999999999999  Probs: [0.522, 0.004, 0.007, 0.467]\n",
            "run: 60, Qubits: [0.18127294288401138, 0.4648355061144295]. Loss: 0.08200000000000002  Probs: [0.534, 0.009, 0.005, 0.452]\n",
            "run: 61, Qubits: [0.18127294288401138, 0.5320362316817213]. Loss: 0.05800000000000005  Probs: [0.469, 0.002, 0.002, 0.527]\n",
            "run: 62, Qubits: [0.18007433974186096, 0.5320362316817213]. Loss: 0.14099999999999996  Probs: [0.427, 0.003, 0.002, 0.568]\n",
            "run: 63, Qubits: [0.18007433974186096, 0.5356076216923794]. Loss: 0.09600000000000003  Probs: [0.449, 0.003, 0.003, 0.545]\n",
            "run: 64, Qubits: [0.8725470780586402, 0.5356076216923794]. Loss: 0.07500000000000001  Probs: [0.535, 0.003, 0.002, 0.46]\n",
            "run: 65, Qubits: [0.8725470780586402, 0.6616089821310503]. Loss: 0.476  Probs: [0.736, 0.003, 0.001, 0.26]\n",
            "run: 66, Qubits: [0.872850339094606, 0.6616089821310503]. Loss: 0.505  Probs: [0.75, 0.005, 0.0, 0.245]\n",
            "run: 67, Qubits: [0.872850339094606, 0.6297839289249637]. Loss: 0.34600000000000003  Probs: [0.669, 0.004, 0.004, 0.323]\n",
            "run: 68, Qubits: [-0.08342153762851878, 0.6297839289249637]. Loss: 0.425  Probs: [0.285, 0.002, 0.003, 0.71]\n",
            "run: 69, Qubits: [-0.08342153762851878, 0.5798232897485331]. Loss: 0.22599999999999998  Probs: [0.385, 0.001, 0.003, 0.611]\n",
            "run: 70, Qubits: [-0.08259541273743957, 0.5798232897485331]. Loss: 0.256  Probs: [0.369, 0.002, 0.004, 0.625]\n",
            "run: 71, Qubits: [-0.08259541273743957, 0.5399919338490914]. Loss: 0.12500000000000006  Probs: [0.433, 0.006, 0.003, 0.558]\n",
            "run: 72, Qubits: [-0.44573663174622097, 0.5399919338490914]. Loss: 0.014000000000000012  Probs: [0.487, 0.003, 0.009, 0.501]\n",
            "run: 73, Qubits: [-0.44573663174622097, 0.5071032718786773]. Loss: 0.010000000000000009  Probs: [0.498, 0.005, 0.005, 0.492]\n",
            "run: 74, Qubits: [-0.44879329384321404, 0.5071032718786773]. Loss: 0.03400000000000003  Probs: [0.48, 0.005, 0.001, 0.514]\n",
            "run: 75, Qubits: [-0.44879329384321404, 0.5058870472710608]. Loss: 0.007000000000000006  Probs: [0.502, 0.0, 0.003, 0.495]\n"
          ],
          "name": "stdout"
        }
      ]
    },
    {
      "cell_type": "markdown",
      "metadata": {
        "id": "_2s9jtolBdcb",
        "colab_type": "text"
      },
      "source": [
        "Now with random thetas:"
      ]
    },
    {
      "cell_type": "code",
      "metadata": {
        "id": "BlCkKZbCqay2",
        "colab_type": "code",
        "outputId": "9fe4b5b0-1c6c-4f8c-daf9-53f43e971d01",
        "colab": {
          "base_uri": "https://localhost:8080/",
          "height": 427
        }
      },
      "source": [
        "thetas=[np.random.random(),np.random.random()] #[X,Y]\n",
        "delta=0.1\n",
        "jiggle=0.001\n",
        "reps=10000\n",
        "errorTol=0.01\n",
        "\n",
        "#setup\n",
        "circuit=updateCircuit(thetas[0],thetas[1])\n",
        "cprint(circuit)\n",
        "probs=[]\n",
        "\n",
        "#initial state\n",
        "result=cirq.sample(circuit, repetitions=reps).histogram(key='0,1')\n",
        "for i in range(4):\n",
        "  probs.append(result[i]/reps)\n",
        "results=[[[thetas[0],thetas[1]],probs,loss(probs)]]\n",
        "print(results)\n",
        "\n",
        "#initial X\n",
        "thetas[0]=thetas[0]+jiggle\n",
        "circuit=updateCircuit(thetas[0],thetas[1])\n",
        "result=cirq.sample(circuit, repetitions=reps).histogram(key='0,1')\n",
        "probs=[]\n",
        "\n",
        "for i in range(4):\n",
        "  probs.append(result[i]/reps)\n",
        "results.append([[thetas[0],thetas[1]],probs,loss(probs)]) # [thetas[0],thetas[1]] instead of thetas because of a weird python issue where it keeps pointing to the var thetas instead of taking its values\n",
        "\n",
        "if np.abs(results[-1][0][0]-results[-2][0][0])>0:\n",
        "  updateX=-delta*(results[-1][2]-results[-2][2])/(results[-1][0][0]-results[-2][0][0])\n",
        "else:\n",
        "  updateX=jiggle\n",
        "\n",
        "#initial Y\n",
        "thetas[1]=thetas[1]+jiggle\n",
        "circuit=updateCircuit(thetas[0],thetas[1])\n",
        "result=cirq.sample(circuit, repetitions=reps).histogram(key='0,1')\n",
        "probs=[]\n",
        "\n",
        "for i in range(4):\n",
        "  probs.append(result[i]/reps)\n",
        "results.append([[thetas[0],thetas[1]],probs,loss(probs)])\n",
        "\n",
        "if np.abs(results[-1][0][1]-results[-2][0][1])>0:\n",
        "  updateY=-delta*(results[-1][2]-results[-2][2])/(results[-1][0][1]-results[-2][0][1])\n",
        "else:\n",
        "  updateY=jiggle\n",
        "\n",
        "\n",
        "while True:\n",
        "  #step in X\n",
        "  thetas[0]=thetas[0]+updateX\n",
        "  circuit=updateCircuit(thetas[0],thetas[1])\n",
        "  result=cirq.sample(circuit, repetitions=reps).histogram(key='0,1')\n",
        "\n",
        "  probs=[]\n",
        "  for i in range(4):\n",
        "    probs.append(result[i]/reps)\n",
        "  results.append([[thetas[0],thetas[1]],probs,loss(probs)])\n",
        "\n",
        "  print(\"run: \"+str(len(results))+\", Qubits: \"+ str(results[-1][0])+\". Loss: \" + str(results[-1][2])+\"  Probs: \"+str(results[-1][1]))\n",
        "  if np.abs(results[-1][0][0]-results[-2][0][0])>0:\n",
        "    updateX=-delta*(results[-1][2]-results[-2][2])/(results[-1][0][0]-results[-2][0][0])\n",
        "  else:\n",
        "    updateX=jiggle\n",
        "    print(\"will jiggle X\")\n",
        "  if results[-1][2]<errorTol:\n",
        "    break \n",
        "\n",
        "  \n",
        "  #step in Y\n",
        "  thetas[1]=thetas[1]+updateY\n",
        "  circuit=updateCircuit(thetas[0],thetas[1])\n",
        "  result=cirq.sample(circuit, repetitions=reps).histogram(key='0,1')\n",
        "  probs=[]\n",
        "  for i in range(4):\n",
        "    probs.append(result[i]/reps)\n",
        "  results.append([[thetas[0],thetas[1]],probs,loss(probs)])\n",
        "  print(\"run: \"+str(len(results))+\", Qubits: \"+ str(results[-1][0])+\". Loss: \" + str(results[-1][2])+\"  Probs: \"+str(results[-1][1]))\n",
        "  if np.abs(results[-1][0][1]-results[-2][0][1])>0:\n",
        "    updateY=-delta*(results[-1][2]-results[-2][2])/(results[-1][0][1]-results[-2][0][1])\n",
        "  else:\n",
        "    updateY=jiggle\n",
        "    print(\"will jiggle Y\")\n",
        "  if results[-1][2]<errorTol:\n",
        "    break \n",
        "\n"
      ],
      "execution_count": 17,
      "outputs": [
        {
          "output_type": "display_data",
          "data": {
            "text/plain": [
              "<IPython.core.display.SVG object>"
            ],
            "image/svg+xml": "<svg height=\"100.0\" width=\"518.9311328125\" xmlns=\"http://www.w3.org/2000/svg\"><line stroke=\"#1967d2\" stroke-width=\"1\" x1=\"30.0\" x2=\"488.9311328125\" y1=\"25.0\" y2=\"25.0\"/><line stroke=\"#1967d2\" stroke-width=\"1\" x1=\"30.0\" x2=\"488.9311328125\" y1=\"75.0\" y2=\"75.0\"/><line stroke=\"black\" stroke-width=\"3\" x1=\"299.72453125\" x2=\"299.72453125\" y1=\"25.0\" y2=\"75.0\"/><line stroke=\"black\" stroke-width=\"3\" x1=\"448.9311328125\" x2=\"448.9311328125\" y1=\"25.0\" y2=\"75.0\"/><rect fill=\"white\" height=\"40\" stroke=\"black\" stroke-width=\"0\" width=\"40\" x=\"10.0\" y=\"5.0\"/><text dominant-baseline=\"middle\" font-size=\"14px\" text-anchor=\"middle\" x=\"30.0\" y=\"25.0\">0: </text><rect fill=\"white\" height=\"40\" stroke=\"black\" stroke-width=\"0\" width=\"40\" x=\"10.0\" y=\"55.0\"/><text dominant-baseline=\"middle\" font-size=\"14px\" text-anchor=\"middle\" x=\"30.0\" y=\"75.0\">1: </text><rect fill=\"white\" height=\"40\" stroke=\"black\" stroke-width=\"1\" width=\"84.86773437500001\" x=\"70.0\" y=\"5.0\"/><text dominant-baseline=\"middle\" font-size=\"14px\" text-anchor=\"middle\" x=\"112.4338671875\" y=\"25.0\">Rx(0.141π)</text><rect fill=\"white\" height=\"40\" stroke=\"black\" stroke-width=\"1\" width=\"84.856796875\" x=\"174.867734375\" y=\"5.0\"/><text dominant-baseline=\"middle\" font-size=\"14px\" text-anchor=\"middle\" x=\"217.2961328125\" y=\"25.0\">Ry(0.441π)</text><circle cx=\"299.72453125\" cy=\"25.0\" r=\"10.0\"/><rect fill=\"white\" height=\"40\" stroke=\"black\" stroke-width=\"1\" width=\"40\" x=\"279.72453125\" y=\"55.0\"/><text dominant-baseline=\"middle\" font-size=\"18px\" text-anchor=\"middle\" x=\"299.72453125\" y=\"75.0\">X</text><rect fill=\"white\" height=\"40\" stroke=\"black\" stroke-width=\"1\" width=\"69.2066015625\" x=\"339.7245312499999\" y=\"5.0\"/><text dominant-baseline=\"middle\" font-size=\"14px\" text-anchor=\"middle\" x=\"374.32783203124995\" y=\"25.0\">D(0.005)</text><rect fill=\"white\" height=\"40\" stroke=\"black\" stroke-width=\"1\" width=\"69.2066015625\" x=\"339.7245312499999\" y=\"55.0\"/><text dominant-baseline=\"middle\" font-size=\"14px\" text-anchor=\"middle\" x=\"374.32783203124995\" y=\"75.0\">D(0.005)</text><rect fill=\"white\" height=\"40\" stroke=\"black\" stroke-width=\"1\" width=\"40\" x=\"428.9311328125\" y=\"5.0\"/><text dominant-baseline=\"middle\" font-size=\"18px\" text-anchor=\"middle\" x=\"448.9311328125\" y=\"25.0\">M</text><rect fill=\"white\" height=\"40\" stroke=\"black\" stroke-width=\"1\" width=\"40\" x=\"428.9311328125\" y=\"55.0\"/><text dominant-baseline=\"middle\" font-size=\"18px\" text-anchor=\"middle\" x=\"448.9311328125\" y=\"75.0\">M</text></svg>"
          },
          "metadata": {
            "tags": []
          }
        },
        {
          "output_type": "stream",
          "text": [
            "[[[0.14068455204466646, 0.4411494417192061], [0.5792, 0.0035, 0.0036, 0.4137], 0.16550000000000004]]\n",
            "run: 4, Qubits: [0.4116845520446698, 0.4421494417192061]. Loss: 0.032399999999999984  Probs: [0.5134, 0.0023, 0.0033, 0.481]\n",
            "run: 5, Qubits: [0.4116845520446698, -1.6178505582807872]. Loss: 0.09820000000000007  Probs: [0.546, 0.0034, 0.0028, 0.4478]\n",
            "run: 6, Qubits: [0.467610477970595, -1.6178505582807872]. Loss: 0.03370000000000006  Probs: [0.5137, 0.0028, 0.0035, 0.48]\n",
            "run: 7, Qubits: [0.467610477970595, -1.6146563835235055]. Loss: 0.028500000000000025  Probs: [0.5108, 0.0031, 0.0038, 0.4823]\n",
            "run: 8, Qubits: [0.5829416037984111, -1.6146563835235055]. Loss: 0.06849999999999995  Probs: [0.4621, 0.0029, 0.0044, 0.5306]\n",
            "run: 9, Qubits: [0.5829416037984111, -1.4518600309399239]. Loss: 0.043899999999999995  Probs: [0.5181, 0.0041, 0.0036, 0.4742]\n",
            "run: 10, Qubits: [0.5482588590381474, -1.4518600309399239]. Loss: 0.010099999999999998  Probs: [0.5018, 0.0034, 0.0031, 0.4917]\n",
            "run: 11, Qubits: [0.5482588590381474, -1.436749127280476]. Loss: 0.0267  Probs: [0.5102, 0.0034, 0.0029, 0.4835]\n",
            "run: 12, Qubits: [0.4508040577136428, -1.436749127280476]. Loss: 0.01739999999999997  Probs: [0.4881, 0.0033, 0.0031, 0.5055]\n",
            "run: 13, Qubits: [0.4508040577136428, -1.5466035765848436]. Loss: 0.03049999999999997  Probs: [0.5112, 0.0037, 0.0044, 0.4807]\n",
            "run: 14, Qubits: [0.44126117232102585, -1.5466035765848436]. Loss: 0.0257  Probs: [0.5093, 0.0025, 0.0046, 0.4836]\n",
            "run: 15, Qubits: [0.44126117232102585, -1.5346787068294963]. Loss: 0.015100000000000002  Probs: [0.5039, 0.0038, 0.0035, 0.4888]\n",
            "run: 16, Qubits: [0.3909619200245077, -1.5346787068294963]. Loss: 0.046099999999999974  Probs: [0.5203, 0.0027, 0.0028, 0.4742]\n",
            "run: 17, Qubits: [0.3909619200245077, -1.4457888470870304]. Loss: 0.035199999999999954  Probs: [0.4791, 0.003, 0.0036, 0.5143]\n",
            "run: 18, Qubits: [0.4525930548518257, -1.4457888470870304]. Loss: 0.01639999999999997  Probs: [0.4891, 0.0029, 0.0025, 0.5055]\n",
            "run: 19, Qubits: [0.4525930548518257, -1.4335264810178523]. Loss: 0.01739999999999997  Probs: [0.488, 0.0035, 0.0031, 0.5054]\n",
            "run: 20, Qubits: [0.48309711753487544, -1.4335264810178523]. Loss: 0.007599999999999996  Probs: [0.4941, 0.0038, 0.0038, 0.4983]\n"
          ],
          "name": "stdout"
        }
      ]
    }
  ]
}